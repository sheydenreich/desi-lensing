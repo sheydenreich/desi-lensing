{
 "cells": [
  {
   "cell_type": "code",
   "execution_count": 2,
   "metadata": {},
   "outputs": [],
   "source": [
    "from astropy.io import fits\n",
    "from astropy.table import Table, Column, join\n",
    "from tqdm import tqdm\n",
    "\n",
    "# import DESI related modules - \n",
    "# from desispec.io import specprod_root\n",
    "# from desitarget.targetmask import desi_mask\n",
    "import fitsio\n",
    "from astropy.io import fits\n",
    "\n",
    "\n",
    "from dsigma.precompute import precompute\n",
    "from dsigma.jackknife import compute_jackknife_fields, jackknife_resampling, compress_jackknife_fields\n",
    "from dsigma.stacking import excess_surface_density,tangential_shear,lens_magnification_bias\n",
    "from dsigma.surveys import des, kids, hsc\n",
    "\n",
    "import pickle\n",
    "\n",
    "import configparser\n",
    "\n",
    "import numpy as np\n",
    "import matplotlib.pyplot as plt\n",
    "\n",
    "import sys\n",
    "sys.path.append('/global/homes/s/sven/code/lensingWithoutBorders/')\n",
    "from load_utils import precompute_and_stack\n",
    "\n",
    "from tqdm import tqdm,trange\n",
    "\n",
    "from copy import deepcopy"
   ]
  },
  {
   "cell_type": "code",
   "execution_count": 3,
   "metadata": {},
   "outputs": [],
   "source": [
    "fpath_desi_lensing = \"/global/cfs/cdirs/desicollab/science/c3/DESI-Lensing/\""
   ]
  },
  {
   "cell_type": "code",
   "execution_count": 4,
   "metadata": {},
   "outputs": [],
   "source": [
    "fn_precomputed_cat_l = fpath_desi_lensing + \"lensing_measurements/v1.1/precomputed_tables/{}/deltasigma_{}_zmin_{:.1f}_zmax_{:.1f}_blindA_boost_True_l.fits\"\n",
    "fn_precomputed_cat_r = fpath_desi_lensing + \"lensing_measurements/v1.1/precomputed_tables/{}/deltasigma_{}_zmin_{:.1f}_zmax_{:.1f}_blindA_boost_True_r.fits\"\n",
    "fn_precomputed_cat_meta = fpath_desi_lensing + \"lensing_measurements/v1.1/precomputed_tables/{}/deltasigma_{}_zmin_{:.1f}_zmax_{:.1f}_blindA_boost_True_meta.pkl\""
   ]
  },
  {
   "cell_type": "code",
   "execution_count": 5,
   "metadata": {},
   "outputs": [],
   "source": [
    "lens_bins = {\"BGS_BRIGHT\":[0.1,0.2,0.3,0.4]}\n",
    "\n",
    "galaxy_type = \"BGS_BRIGHT\"\n",
    "\n",
    "lower_mass = [\"10.56\",\"11.0\",\"11.33\"]\n",
    "upper_mass = [12.1,12.2,12.3]"
   ]
  },
  {
   "cell_type": "code",
   "execution_count": 6,
   "metadata": {},
   "outputs": [],
   "source": [
    "def get_tables(lensing_survey,lens_bin,verbose=False):\n",
    "    precomputed_table_l = Table.read(fn_precomputed_cat_l.format(lensing_survey, galaxy_type, lens_bins[galaxy_type][lens_bin], lens_bins[galaxy_type][lens_bin+1]))\n",
    "    precomputed_table_r = Table.read(fn_precomputed_cat_r.format(lensing_survey, galaxy_type, lens_bins[galaxy_type][lens_bin], lens_bins[galaxy_type][lens_bin+1]))\n",
    "    precomputed_meta = pickle.load(open(fn_precomputed_cat_meta.format(lensing_survey, galaxy_type, lens_bins[galaxy_type][lens_bin], lens_bins[galaxy_type][lens_bin+1]), \"rb\"))\n",
    "\n",
    "    mstar_complete_cat = Table(fitsio.read(fpath_desi_lensing + f\"desi_catalogues/matt_cat/{galaxy_type}_fastspec_lens_{lower_mass[lens_bin]}_{lens_bins[galaxy_type][lens_bin]:.1f}_{lens_bins[galaxy_type][lens_bin+1]:.1f}.dat.fits\",\n",
    "                                        columns=[\"TARGETID\",\"LOGMSTAR\"]))\n",
    "    mmax = np.max(mstar_complete_cat[\"LOGMSTAR\"])\n",
    "\n",
    "    len_before = len(precomputed_table_l)\n",
    "    len_mstar = len(mstar_complete_cat)\n",
    "    precomputed_table_l = join(precomputed_table_l, mstar_complete_cat, keys=\"TARGETID\", join_type=\"inner\")\n",
    "    precomputed_table_l.meta = precomputed_meta\n",
    "    precomputed_table_r.meta = precomputed_meta\n",
    "\n",
    "\n",
    "    if(verbose):\n",
    "        print(f\"Number of galaxies before: {len_before}, after: {len(precomputed_table_l)}\")\n",
    "        print(f\"Maximum mass: {mmax}\")\n",
    "\n",
    "    return precomputed_table_l, precomputed_table_r"
   ]
  },
  {
   "cell_type": "code",
   "execution_count": 7,
   "metadata": {},
   "outputs": [],
   "source": [
    "def get_stacking_kwargs(lensing_survey):\n",
    "    config = configparser.ConfigParser()\n",
    "    config.read(\"/global/homes/s/sven/code/lensingWithoutBorders/config_files/config_deltasigma_DESI_BGS.ini\")\n",
    "\n",
    "    survey = lensing_survey\n",
    "\n",
    "    stacking_kwargs = {\n",
    "        'photo_z_dilution_correction':config.getboolean(f'{survey.lower()}','photo_z_dilution_correction'),\n",
    "        'boost_correction':config.getboolean(f'{survey.lower()}','boost_correction'),\n",
    "        'scalar_shear_response_correction':config.getboolean(f'{survey.lower()}','scalar_shear_response_correction'),\n",
    "        'matrix_shear_response_correction':config.getboolean(f'{survey.lower()}','matrix_shear_response_correction'),\n",
    "        'shear_responsivity_correction':config.getboolean(f'{survey.lower()}','shear_responsivity_correction'),\n",
    "        'hsc_selection_bias_correction':config.getboolean(f'{survey.lower()}','hsc_selection_bias_correction'),\n",
    "        'random_subtraction':config.getboolean(f'{survey.lower()}','random_subtraction'),\n",
    "        }\n",
    "\n",
    "    return stacking_kwargs\n",
    "\n"
   ]
  },
  {
   "cell_type": "code",
   "execution_count": 8,
   "metadata": {},
   "outputs": [
    {
     "name": "stdout",
     "output_type": "stream",
     "text": [
      "1\n",
      "2\n",
      "3\n"
     ]
    },
    {
     "data": {
      "image/png": "[encoded data removed]",
      "text/plain": [
       "<Figure size 640x480 with 1 Axes>"
      ]
     },
     "metadata": {},
     "output_type": "display_data"
    }
   ],
   "source": [
    "mstar_complete_cats = []\n",
    "for lens_bin in range(3):\n",
    "    tab = Table(fitsio.read(fpath_desi_lensing + f\"desi_catalogues/matt_cat/{galaxy_type}_fastspec_lens_{lower_mass[lens_bin]}_{lens_bins[galaxy_type][lens_bin]:.1f}_{lens_bins[galaxy_type][lens_bin+1]:.1f}.dat.fits\",\n",
    "                                        columns=[\"TARGETID\",\"LOGMSTAR\"]))\n",
    "    mstar_complete_cats.append(np.array(tab[\"LOGMSTAR\"]))\n",
    "    print(len(mstar_complete_cats))\n",
    "plt.hist(mstar_complete_cats,bins=30,label=[1,2,3])\n",
    "plt.legend()\n",
    "plt.yscale('log')\n"
   ]
  },
  {
   "cell_type": "code",
   "execution_count": 9,
   "metadata": {},
   "outputs": [
    {
     "name": "stderr",
     "output_type": "stream",
     "text": [
      "DES:   0%|          | 0/3 [00:00<?, ?it/s]"
     ]
    },
    {
     "name": "stdout",
     "output_type": "stream",
     "text": [
      "Computing for  25790 galaxies between \n",
      "**************************************************\n",
      "The number of jackknife regions cannot be smaller than the number of continous fields. Try increasing `distance_threshold` or decreasing `centers`.\n",
      "25790 6\n",
      "Data jackknife fields could not be computed. Increasing distance threshold.\n",
      "**************************************************\n"
     ]
    },
    {
     "name": "stderr",
     "output_type": "stream",
     "text": []
    },
    {
     "name": "stdout",
     "output_type": "stream",
     "text": [
      "Computing for  7139 galaxies between \n",
      "**************************************************\n",
      "The number of jackknife regions cannot be smaller than the number of continous fields. Try increasing `distance_threshold` or decreasing `centers`.\n",
      "7139 6\n",
      "Data jackknife fields could not be computed. Increasing distance threshold.\n",
      "**************************************************\n"
     ]
    },
    {
     "name": "stderr",
     "output_type": "stream",
     "text": []
    },
    {
     "name": "stdout",
     "output_type": "stream",
     "text": [
      "Computing for  222 galaxies between \n"
     ]
    },
    {
     "name": "stderr",
     "output_type": "stream",
     "text": [
      "DES:  33%|███▎      | 1/3 [01:01<02:03, 61.87s/it]"
     ]
    },
    {
     "name": "stdout",
     "output_type": "stream",
     "text": [
      "Computing for  17224 galaxies between \n",
      "**************************************************\n",
      "The number of jackknife regions cannot be smaller than the number of continous fields. Try increasing `distance_threshold` or decreasing `centers`.\n",
      "17224 6\n",
      "Data jackknife fields could not be computed. Increasing distance threshold.\n",
      "**************************************************\n"
     ]
    },
    {
     "name": "stderr",
     "output_type": "stream",
     "text": []
    },
    {
     "name": "stdout",
     "output_type": "stream",
     "text": [
      "Computing for  2376 galaxies between \n",
      "**************************************************\n",
      "The number of jackknife regions cannot be smaller than the number of continous fields. Try increasing `distance_threshold` or decreasing `centers`.\n",
      "2376 6\n",
      "Data jackknife fields could not be computed. Increasing distance threshold.\n",
      "**************************************************\n"
     ]
    },
    {
     "name": "stderr",
     "output_type": "stream",
     "text": []
    },
    {
     "name": "stdout",
     "output_type": "stream",
     "text": [
      "Computing for  64 galaxies between \n"
     ]
    },
    {
     "name": "stderr",
     "output_type": "stream",
     "text": [
      "DES:  33%|███▎      | 1/3 [01:50<03:40, 110.23s/it]\n"
     ]
    },
    {
     "ename": "ValueError",
     "evalue": "Found array with 0 sample(s) (shape=(0, 3)) while a minimum of 1 is required.",
     "output_type": "error",
     "traceback": [
      "\u001b[0;31m---------------------------------------------------------------------------\u001b[0m",
      "\u001b[0;31mValueError\u001b[0m                                Traceback (most recent call last)",
      "Cell \u001b[0;32mIn[9], line 20\u001b[0m\n\u001b[1;32m     18\u001b[0m mask \u001b[38;5;241m=\u001b[39m (precomputed_table_l[\u001b[38;5;124m\"\u001b[39m\u001b[38;5;124mLOGMSTAR\u001b[39m\u001b[38;5;124m\"\u001b[39m] \u001b[38;5;241m>\u001b[39m mass_bins[mass_bin]) \u001b[38;5;241m&\u001b[39m (precomputed_table_l[\u001b[38;5;124m\"\u001b[39m\u001b[38;5;124mLOGMSTAR\u001b[39m\u001b[38;5;124m\"\u001b[39m] \u001b[38;5;241m<\u001b[39m mass_bins[mass_bin\u001b[38;5;241m+\u001b[39m\u001b[38;5;241m1\u001b[39m])\n\u001b[1;32m     19\u001b[0m \u001b[38;5;28mprint\u001b[39m(\u001b[38;5;124m\"\u001b[39m\u001b[38;5;124mComputing for \u001b[39m\u001b[38;5;124m\"\u001b[39m,np\u001b[38;5;241m.\u001b[39msum(mask),\u001b[38;5;124m\"\u001b[39m\u001b[38;5;124mgalaxies between \u001b[39m\u001b[38;5;124m\"\u001b[39m)\n\u001b[0;32m---> 20\u001b[0m result,covariance_matrix,_,_ \u001b[38;5;241m=\u001b[39m \u001b[43mprecompute_and_stack\u001b[49m\u001b[43m(\u001b[49m\u001b[38;5;124;43m\"\u001b[39;49m\u001b[38;5;124;43mdeltasigma\u001b[39;49m\u001b[38;5;124;43m\"\u001b[39;49m\u001b[43m,\u001b[49m\u001b[43mdeepcopy\u001b[49m\u001b[43m(\u001b[49m\u001b[43mprecomputed_table_l\u001b[49m\u001b[43m[\u001b[49m\u001b[43mmask\u001b[49m\u001b[43m]\u001b[49m\u001b[43m)\u001b[49m\u001b[43m,\u001b[49m\u001b[43mdeepcopy\u001b[49m\u001b[43m(\u001b[49m\u001b[43mprecomputed_table_r\u001b[49m\u001b[43m)\u001b[49m\u001b[43m,\u001b[49m\n\u001b[1;32m     21\u001b[0m \u001b[43m                                                    \u001b[49m\u001b[38;5;28;43;01mNone\u001b[39;49;00m\u001b[43m,\u001b[49m\u001b[43mnp\u001b[49m\u001b[38;5;241;43m.\u001b[39;49m\u001b[43mgeomspace\u001b[49m\u001b[43m(\u001b[49m\u001b[38;5;241;43m0.08\u001b[39;49m\u001b[43m,\u001b[49m\u001b[38;5;241;43m80\u001b[39;49m\u001b[43m,\u001b[49m\u001b[38;5;241;43m16\u001b[39;49m\u001b[43m)\u001b[49m\u001b[43m,\u001b[49m\u001b[38;5;28;43;01mNone\u001b[39;49;00m\u001b[43m,\u001b[49m\n\u001b[1;32m     22\u001b[0m \u001b[43m                                                    \u001b[49m\u001b[38;5;241;43m6\u001b[39;49m\u001b[43m,\u001b[49m\u001b[38;5;28;43;01mTrue\u001b[39;49;00m\u001b[43m,\u001b[49m\u001b[38;5;28;43;01mNone\u001b[39;49;00m\u001b[43m,\u001b[49m\u001b[43mstacking_kwargs\u001b[49m\u001b[43m,\u001b[49m\u001b[38;5;28;43;01mNone\u001b[39;49;00m\u001b[43m)\u001b[49m\n\u001b[1;32m     23\u001b[0m results[lensing_survey][lens_bin][mass_bin] \u001b[38;5;241m=\u001b[39m result\n\u001b[1;32m     24\u001b[0m covariances[lensing_survey][lens_bin][mass_bin] \u001b[38;5;241m=\u001b[39m covariance_matrix\n",
      "File \u001b[0;32m~/code/lensingWithoutBorders/load_utils.py:157\u001b[0m, in \u001b[0;36mprecompute_and_stack\u001b[0;34m(statistic, table_l_part, table_r_part, table_s, rp_bins, theta_bins, n_jackknife_fields, verbose, precompute_kwargs, stacking_kwargs, alpha_l)\u001b[0m\n\u001b[1;32m    154\u001b[0m \u001b[38;5;66;03m# table_l_part = table_l_part[select_l]\u001b[39;00m\n\u001b[1;32m    155\u001b[0m \u001b[38;5;28;01mtry\u001b[39;00m:\n\u001b[1;32m    156\u001b[0m \u001b[38;5;66;03m# if(True):\u001b[39;00m\n\u001b[0;32m--> 157\u001b[0m     centers \u001b[38;5;241m=\u001b[39m \u001b[43mcompute_jackknife_fields\u001b[49m\u001b[43m(\u001b[49m\n\u001b[1;32m    158\u001b[0m \u001b[43m        \u001b[49m\u001b[43mtable_l_part\u001b[49m\u001b[43m,\u001b[49m\u001b[43m \u001b[49m\u001b[43mn_jackknife_fields\u001b[49m\u001b[43m,\u001b[49m\u001b[43m \u001b[49m\u001b[43mweights\u001b[49m\u001b[38;5;241;43m=\u001b[39;49m\u001b[43mnp\u001b[49m\u001b[38;5;241;43m.\u001b[39;49m\u001b[43msum\u001b[49m\u001b[43m(\u001b[49m\u001b[43mtable_l_part\u001b[49m\u001b[43m[\u001b[49m\u001b[38;5;124;43m'\u001b[39;49m\u001b[38;5;124;43msum 1\u001b[39;49m\u001b[38;5;124;43m'\u001b[39;49m\u001b[43m]\u001b[49m\u001b[43m,\u001b[49m\u001b[43m \u001b[49m\u001b[43maxis\u001b[49m\u001b[38;5;241;43m=\u001b[39;49m\u001b[38;5;241;43m1\u001b[39;49m\u001b[43m)\u001b[49m\u001b[43m)\u001b[49m\n\u001b[1;32m    159\u001b[0m \u001b[38;5;28;01mexcept\u001b[39;00m \u001b[38;5;167;01mRuntimeError\u001b[39;00m \u001b[38;5;28;01mas\u001b[39;00m e:\n\u001b[1;32m    160\u001b[0m     \u001b[38;5;28mprint\u001b[39m(\u001b[38;5;124m\"\u001b[39m\u001b[38;5;124m*\u001b[39m\u001b[38;5;124m\"\u001b[39m\u001b[38;5;241m*\u001b[39m\u001b[38;5;241m50\u001b[39m)\n",
      "File \u001b[0;32m/global/u2/s/sven/code/dsigma/dsigma/jackknife.py:100\u001b[0m, in \u001b[0;36mcompute_jackknife_fields\u001b[0;34m(table, centers, distance_threshold, weights)\u001b[0m\n\u001b[1;32m     95\u001b[0m     \u001b[38;5;28;01mif\u001b[39;00m w_c[i] \u001b[38;5;241m>\u001b[39m \u001b[38;5;241m0\u001b[39m:\n\u001b[1;32m     96\u001b[0m         init \u001b[38;5;241m=\u001b[39m np\u001b[38;5;241m.\u001b[39mvstack([init, xyz[\u001b[38;5;241m~\u001b[39mmask][np\u001b[38;5;241m.\u001b[39mrandom\u001b[38;5;241m.\u001b[39mchoice(\n\u001b[1;32m     97\u001b[0m             np\u001b[38;5;241m.\u001b[39msum(\u001b[38;5;241m~\u001b[39mmask), n_jk_per_c[i], replace\u001b[38;5;241m=\u001b[39m\u001b[38;5;28;01mFalse\u001b[39;00m,\n\u001b[1;32m     98\u001b[0m             p\u001b[38;5;241m=\u001b[39mweights[\u001b[38;5;241m~\u001b[39mmask] \u001b[38;5;241m/\u001b[39m w_c[i])]])\n\u001b[0;32m--> 100\u001b[0m centers \u001b[38;5;241m=\u001b[39m \u001b[43mMiniBatchKMeans\u001b[49m\u001b[43m(\u001b[49m\u001b[43mn_clusters\u001b[49m\u001b[38;5;241;43m=\u001b[39;49m\u001b[43mn_jk\u001b[49m\u001b[43m,\u001b[49m\u001b[43m \u001b[49m\u001b[43minit\u001b[49m\u001b[38;5;241;43m=\u001b[39;49m\u001b[43minit\u001b[49m\u001b[43m,\u001b[49m\u001b[43m \u001b[49m\u001b[43mn_init\u001b[49m\u001b[38;5;241;43m=\u001b[39;49m\u001b[38;5;241;43m1\u001b[39;49m\u001b[43m)\u001b[49m\u001b[38;5;241;43m.\u001b[39;49m\u001b[43mfit\u001b[49m\u001b[43m(\u001b[49m\n\u001b[1;32m    101\u001b[0m \u001b[43m    \u001b[49m\u001b[43mxyz\u001b[49m\u001b[43m[\u001b[49m\u001b[43mweights\u001b[49m\u001b[43m \u001b[49m\u001b[38;5;241;43m>\u001b[39;49m\u001b[43m \u001b[49m\u001b[38;5;241;43m0\u001b[39;49m\u001b[43m]\u001b[49m\u001b[43m,\u001b[49m\u001b[43m \u001b[49m\u001b[43msample_weight\u001b[49m\u001b[38;5;241;43m=\u001b[39;49m\u001b[43mweights\u001b[49m\u001b[43m[\u001b[49m\u001b[43mweights\u001b[49m\u001b[43m \u001b[49m\u001b[38;5;241;43m>\u001b[39;49m\u001b[43m \u001b[49m\u001b[38;5;241;43m0\u001b[39;49m\u001b[43m]\u001b[49m\u001b[43m)\u001b[49m\u001b[38;5;241m.\u001b[39mcluster_centers_\n\u001b[1;32m    102\u001b[0m compute_jackknife_fields(table, centers)\n\u001b[1;32m    104\u001b[0m \u001b[38;5;28;01mreturn\u001b[39;00m centers\n",
      "File \u001b[0;32m~/.conda/envs/py38/lib/python3.8/site-packages/sklearn/cluster/_kmeans.py:2037\u001b[0m, in \u001b[0;36mMiniBatchKMeans.fit\u001b[0;34m(self, X, y, sample_weight)\u001b[0m\n\u001b[1;32m   2035\u001b[0m init \u001b[38;5;241m=\u001b[39m \u001b[38;5;28mself\u001b[39m\u001b[38;5;241m.\u001b[39minit\n\u001b[1;32m   2036\u001b[0m \u001b[38;5;28;01mif\u001b[39;00m _is_arraylike_not_scalar(init):\n\u001b[0;32m-> 2037\u001b[0m     init \u001b[38;5;241m=\u001b[39m \u001b[43mcheck_array\u001b[49m\u001b[43m(\u001b[49m\u001b[43minit\u001b[49m\u001b[43m,\u001b[49m\u001b[43m \u001b[49m\u001b[43mdtype\u001b[49m\u001b[38;5;241;43m=\u001b[39;49m\u001b[43mX\u001b[49m\u001b[38;5;241;43m.\u001b[39;49m\u001b[43mdtype\u001b[49m\u001b[43m,\u001b[49m\u001b[43m \u001b[49m\u001b[43mcopy\u001b[49m\u001b[38;5;241;43m=\u001b[39;49m\u001b[38;5;28;43;01mTrue\u001b[39;49;00m\u001b[43m,\u001b[49m\u001b[43m \u001b[49m\u001b[43morder\u001b[49m\u001b[38;5;241;43m=\u001b[39;49m\u001b[38;5;124;43m\"\u001b[39;49m\u001b[38;5;124;43mC\u001b[39;49m\u001b[38;5;124;43m\"\u001b[39;49m\u001b[43m)\u001b[49m\n\u001b[1;32m   2038\u001b[0m     \u001b[38;5;28mself\u001b[39m\u001b[38;5;241m.\u001b[39m_validate_center_shape(X, init)\n\u001b[1;32m   2040\u001b[0m \u001b[38;5;28mself\u001b[39m\u001b[38;5;241m.\u001b[39m_check_mkl_vcomp(X, \u001b[38;5;28mself\u001b[39m\u001b[38;5;241m.\u001b[39m_batch_size)\n",
      "File \u001b[0;32m~/.conda/envs/py38/lib/python3.8/site-packages/sklearn/utils/validation.py:931\u001b[0m, in \u001b[0;36mcheck_array\u001b[0;34m(array, accept_sparse, accept_large_sparse, dtype, order, copy, force_all_finite, ensure_2d, allow_nd, ensure_min_samples, ensure_min_features, estimator, input_name)\u001b[0m\n\u001b[1;32m    929\u001b[0m     n_samples \u001b[38;5;241m=\u001b[39m _num_samples(array)\n\u001b[1;32m    930\u001b[0m     \u001b[38;5;28;01mif\u001b[39;00m n_samples \u001b[38;5;241m<\u001b[39m ensure_min_samples:\n\u001b[0;32m--> 931\u001b[0m         \u001b[38;5;28;01mraise\u001b[39;00m \u001b[38;5;167;01mValueError\u001b[39;00m(\n\u001b[1;32m    932\u001b[0m             \u001b[38;5;124m\"\u001b[39m\u001b[38;5;124mFound array with \u001b[39m\u001b[38;5;132;01m%d\u001b[39;00m\u001b[38;5;124m sample(s) (shape=\u001b[39m\u001b[38;5;132;01m%s\u001b[39;00m\u001b[38;5;124m) while a\u001b[39m\u001b[38;5;124m\"\u001b[39m\n\u001b[1;32m    933\u001b[0m             \u001b[38;5;124m\"\u001b[39m\u001b[38;5;124m minimum of \u001b[39m\u001b[38;5;132;01m%d\u001b[39;00m\u001b[38;5;124m is required\u001b[39m\u001b[38;5;132;01m%s\u001b[39;00m\u001b[38;5;124m.\u001b[39m\u001b[38;5;124m\"\u001b[39m\n\u001b[1;32m    934\u001b[0m             \u001b[38;5;241m%\u001b[39m (n_samples, array\u001b[38;5;241m.\u001b[39mshape, ensure_min_samples, context)\n\u001b[1;32m    935\u001b[0m         )\n\u001b[1;32m    937\u001b[0m \u001b[38;5;28;01mif\u001b[39;00m ensure_min_features \u001b[38;5;241m>\u001b[39m \u001b[38;5;241m0\u001b[39m \u001b[38;5;129;01mand\u001b[39;00m array\u001b[38;5;241m.\u001b[39mndim \u001b[38;5;241m==\u001b[39m \u001b[38;5;241m2\u001b[39m:\n\u001b[1;32m    938\u001b[0m     n_features \u001b[38;5;241m=\u001b[39m array\u001b[38;5;241m.\u001b[39mshape[\u001b[38;5;241m1\u001b[39m]\n",
      "\u001b[0;31mValueError\u001b[0m: Found array with 0 sample(s) (shape=(0, 3)) while a minimum of 1 is required."
     ]
    }
   ],
   "source": [
    "results = {}\n",
    "covariances = {}\n",
    "\n",
    "for lensing_survey in [\"DES\",\"HSC\",\"KiDS\",\"SDSS\"]:\n",
    "    results[lensing_survey] = {}\n",
    "    covariances[lensing_survey] = {}\n",
    "    for lens_bin in trange(len(lens_bins[galaxy_type])-1,desc=lensing_survey):\n",
    "        results[lensing_survey][lens_bin] = {}\n",
    "        covariances[lensing_survey][lens_bin] = {}\n",
    "\n",
    "        precomputed_table_l, precomputed_table_r = get_tables(lensing_survey,lens_bin)\n",
    "\n",
    "        mmax = upper_mass[lens_bin]\n",
    "        stacking_kwargs = get_stacking_kwargs(lensing_survey)\n",
    "        mass_bins = np.geomspace(float(lower_mass[lens_bin]),mmax,4)\n",
    "        mass_bins[-1] = 16\n",
    "        for mass_bin in trange(len(mass_bins)-1,desc=str(lens_bin),leave=False):\n",
    "            mask = (precomputed_table_l[\"LOGMSTAR\"] > mass_bins[mass_bin]) & (precomputed_table_l[\"LOGMSTAR\"] < mass_bins[mass_bin+1])\n",
    "            print(\"Computing for \",np.sum(mask),\"galaxies between \")\n",
    "            result,covariance_matrix,_,_ = precompute_and_stack(\"deltasigma\",deepcopy(precomputed_table_l[mask]),deepcopy(precomputed_table_r),\n",
    "                                                                None,np.geomspace(0.08,80,16),None,\n",
    "                                                                6,True,None,stacking_kwargs,None)\n",
    "            results[lensing_survey][lens_bin][mass_bin] = result\n",
    "            covariances[lensing_survey][lens_bin][mass_bin] = covariance_matrix"
   ]
  },
  {
   "cell_type": "code",
   "execution_count": null,
   "metadata": {},
   "outputs": [],
   "source": [
    "fig,ax = plt.subplots(3,3,figsize=(15,15),sharex=True,sharey=\"row\")\n",
    "for lens_bin in range(len(lens_bins[galaxy_type])-1):\n",
    "    for ls,lensing_survey in enumerate([\"DES\",\"HSC\",\"KiDS\",\"SDSS\"]):\n",
    "        for mass_bin in range(len(mass_bins)-1):\n",
    "            result = results[lensing_survey][lens_bin][mass_bin]\n",
    "            covariance = covariances[lensing_survey][lens_bin][mass_bin]\n",
    "            ax[lens_bin,mass_bin].errorbar(result['rp']*1.1**ls,result['rp']*result['ds'],yerr=result['rp']*np.sqrt(np.diag(covariance)),\n",
    "                                  label=lensing_survey,fmt=\"o\",color=f\"C{ls}\")\n",
    "            # ax[lens_bin,mass_bin].set_xscale(\"log\")\n",
    "            ax[lens_bin,mass_bin].set_yscale(\"log\")\n",
    "            ax[lens_bin,mass_bin].set_title(f\"lens bin {lens_bin+1}, mass bin {mass_bin+1}\")\n",
    "            ax[lens_bin,mass_bin].legend()\n",
    "ax[0,0].set_xscale('log')"
   ]
  },
  {
   "cell_type": "code",
   "execution_count": null,
   "metadata": {},
   "outputs": [],
   "source": []
  }
 ],
 "metadata": {
  "kernelspec": {
   "display_name": "py38",
   "language": "python",
   "name": "python3"
  },
  "language_info": {
   "codemirror_mode": {
    "name": "ipython",
    "version": 3
   },
   "file_extension": ".py",
   "mimetype": "text/x-python",
   "name": "python",
   "nbconvert_exporter": "python",
   "pygments_lexer": "ipython3",
   "version": "3.8.17"
  }
 },
 "nbformat": 4,
 "nbformat_minor": 2
}
